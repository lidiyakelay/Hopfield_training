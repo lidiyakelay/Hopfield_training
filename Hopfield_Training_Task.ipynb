{
  "nbformat": 4,
  "nbformat_minor": 0,
  "metadata": {
    "colab": {
      "provenance": [],
      "authorship_tag": "ABX9TyO761hoHzvhR4S725/8SgGO",
      "include_colab_link": true
    },
    "kernelspec": {
      "name": "python3",
      "display_name": "Python 3"
    },
    "language_info": {
      "name": "python"
    }
  },
  "cells": [
    {
      "cell_type": "markdown",
      "metadata": {
        "id": "view-in-github",
        "colab_type": "text"
      },
      "source": [
        "<a href=\"https://colab.research.google.com/github/lidiyakelay/Hopfield_training/blob/main/Hopfield_Training_Task.ipynb\" target=\"_parent\"><img src=\"https://colab.research.google.com/assets/colab-badge.svg\" alt=\"Open In Colab\"/></a>"
      ]
    },
    {
      "cell_type": "markdown",
      "source": [
        "##Import Dependencies"
      ],
      "metadata": {
        "id": "UcKzZMs7Hrwu"
      }
    },
    {
      "cell_type": "code",
      "execution_count": 109,
      "metadata": {
        "id": "yDsuuCzJ9JR-"
      },
      "outputs": [],
      "source": [
        "import numpy as np\n",
        "import matplotlib.pyplot as plt\n",
        "from keras.datasets import mnist"
      ]
    },
    {
      "cell_type": "markdown",
      "source": [
        "##Load and preprocess data"
      ],
      "metadata": {
        "id": "Kj58oMvYHsYJ"
      }
    },
    {
      "cell_type": "code",
      "source": [
        "def load_data():\n",
        "    (train_images, _), (_, _) = mnist.load_data()\n",
        "    train_images = (train_images > 127).astype(np.int8) * 2 - 1\n",
        "    return train_images"
      ],
      "metadata": {
        "id": "ZvxV7xXP-QCZ"
      },
      "execution_count": 110,
      "outputs": []
    },
    {
      "cell_type": "markdown",
      "source": [
        "##Train Hopfield network"
      ],
      "metadata": {
        "id": "LhUoggrmHtIp"
      }
    },
    {
      "cell_type": "code",
      "source": [
        "def train_hopfield(images):\n",
        "    n_pixels = images.shape[1] * images.shape[2]\n",
        "    W = np.zeros((n_pixels, n_pixels))\n",
        "    for img in images:\n",
        "        flat_img = img.flatten()\n",
        "        W += np.outer(flat_img, flat_img)\n",
        "    np.fill_diagonal(W, 0)\n",
        "    return W / images.shape[0]"
      ],
      "metadata": {
        "id": "L-btklgh-U_F"
      },
      "execution_count": 111,
      "outputs": []
    },
    {
      "cell_type": "markdown",
      "source": [
        "##Distort pattern\n",
        "\n"
      ],
      "metadata": {
        "id": "hYXjMIJGBvCA"
      }
    },
    {
      "cell_type": "code",
      "source": [
        "def distort_pattern(pattern, noise_level=0.3):\n",
        "    distorted = pattern.copy().flatten()\n",
        "    n_flip = int(noise_level * len(distorted))\n",
        "    flip_indices = np.random.choice(len(distorted), n_flip, replace=False)\n",
        "    distorted[flip_indices] = -distorted[flip_indices]\n",
        "    return distorted.reshape(pattern.shape)"
      ],
      "metadata": {
        "id": "o2Y8Xyrv-YVL"
      },
      "execution_count": 112,
      "outputs": []
    },
    {
      "cell_type": "markdown",
      "source": [
        "##Recall function"
      ],
      "metadata": {
        "id": "_lCdQmpFHxjl"
      }
    },
    {
      "cell_type": "code",
      "source": [
        "def recall(W, pattern, max_iter=10):\n",
        "    flat_pattern = pattern.flatten()\n",
        "    for _ in range(max_iter):\n",
        "        for i in range(len(flat_pattern)):\n",
        "            flat_pattern[i] = np.sign(np.dot(W[i], flat_pattern))\n",
        "    return flat_pattern.reshape(pattern.shape)"
      ],
      "metadata": {
        "id": "CK5JwdZE-dXH"
      },
      "execution_count": 113,
      "outputs": []
    },
    {
      "cell_type": "markdown",
      "source": [
        "##Visualization"
      ],
      "metadata": {
        "id": "Z97MZcNSHyDU"
      }
    },
    {
      "cell_type": "code",
      "source": [
        "def plot_images(original, distorted, recalled):\n",
        "    fig, ax = plt.subplots(1, 3)\n",
        "    ax[0].imshow(original, cmap='gray')\n",
        "    ax[0].set_title(\"Original\")\n",
        "    ax[1].imshow(distorted, cmap='gray')\n",
        "    ax[1].set_title(\"Distorted\")\n",
        "    ax[2].imshow(recalled, cmap='gray')\n",
        "    ax[2].set_title(\"Recalled\")\n",
        "    plt.show()"
      ],
      "metadata": {
        "id": "lAVeNMvd-gkh"
      },
      "execution_count": 114,
      "outputs": []
    },
    {
      "cell_type": "markdown",
      "source": [
        "## Execution"
      ],
      "metadata": {
        "id": "sXFWp4ddHy3r"
      }
    },
    {
      "cell_type": "code",
      "source": [
        "images = load_data()[:5]\n",
        "W = train_hopfield(images)\n",
        "test_image = images[0]\n",
        "distorted_image = distort_pattern(test_image, noise_level=0.3)\n",
        "recalled_image = recall(W, distorted_image)\n",
        "\n",
        "plot_images(test_image, distorted_image, recalled_image)"
      ],
      "metadata": {
        "colab": {
          "base_uri": "https://localhost:8080/",
          "height": 228
        },
        "id": "GcRL648Z-j99",
        "outputId": "9fb84d1c-c45f-43bc-8c7e-de5286f7d2ba"
      },
      "execution_count": 115,
      "outputs": [
        {
          "output_type": "display_data",
          "data": {
            "text/plain": [
              "<Figure size 640x480 with 3 Axes>"
            ],
            "image/png": "[encoded data removed]"
          },
          "metadata": {}
        }
      ]
    }
  ]
}